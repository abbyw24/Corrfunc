{
 "cells": [
  {
   "cell_type": "code",
   "execution_count": 1,
   "metadata": {},
   "outputs": [],
   "source": [
    "import os\n",
    "import numpy as np\n",
    "#%matplotlib inline\n",
    "import matplotlib.pyplot as plt\n",
    "plt.ion()\n",
    "\n",
    "import Corrfunc\n",
    "\n",
    "from Corrfunc.theory.DDsmu import DDsmu\n",
    "from Corrfunc.theory.DD import DD\n",
    "from Corrfunc.theory.xi import xi\n",
    "from Corrfunc.utils import compute_amps\n",
    "from Corrfunc.utils import evaluate_xi\n",
    "from Corrfunc.utils import qq_analytic\n",
    "from Corrfunc.bases import spline\n",
    "\n",
    "%load_ext autoreload\n",
    "%autoreload 2"
   ]
  },
  {
   "cell_type": "markdown",
   "metadata": {},
   "source": [
    "# Tophat on theory data"
   ]
  },
  {
   "cell_type": "markdown",
   "metadata": {},
   "source": [
    "### Set up parameters\n",
    "\n",
    "Here we use a low-density lognormal simulation box."
   ]
  },
  {
   "cell_type": "code",
   "execution_count": 2,
   "metadata": {},
   "outputs": [],
   "source": [
    "boxsize = 750\n",
    "nbar_str = '1e-5'\n",
    "proj_type = 'tophat'\n",
    "#proj_type = None\n",
    "\n",
    "rmin = 40\n",
    "rmax = 200\n",
    "nbins = 16\n",
    "\n",
    "mumax = 1.0\n",
    "seed = 0\n",
    "#weight_type='pair_product'\n",
    "weight_type=None"
   ]
  },
  {
   "cell_type": "code",
   "execution_count": 3,
   "metadata": {},
   "outputs": [],
   "source": [
    "rbins = np.linspace(rmin, rmax, nbins+1)\n",
    "rbins_avg = 0.5*(rbins[1:]+rbins[:-1])\n",
    "rcont = np.linspace(rmin, rmax, 1000)\n",
    "\n",
    "cat_tag = '_L{}_nbar{}'.format(boxsize, nbar_str)\n",
    "cat_dir = '../byebyebias/catalogs/cats_lognormal{}'.format(cat_tag)\n",
    "\n",
    "periodic = False\n",
    "nthreads = 24\n",
    "nmubins = 1\n",
    "verbose = False"
   ]
  },
  {
   "cell_type": "markdown",
   "metadata": {},
   "source": [
    "### Load in data and randoms"
   ]
  },
  {
   "cell_type": "code",
   "execution_count": 4,
   "metadata": {},
   "outputs": [],
   "source": [
    "# data\n",
    "data_fn = '{}/cat_lognormal{}_seed{}.dat'.format(cat_dir, cat_tag, seed)\n",
    "data = np.loadtxt(data_fn)\n",
    "x, y, z = data.T\n",
    "nd = data.shape[0]\n",
    "#weights = np.full(nd, 0.5)\n",
    "weights = None"
   ]
  },
  {
   "cell_type": "code",
   "execution_count": 5,
   "metadata": {},
   "outputs": [],
   "source": [
    "# randoms\n",
    "rand_fn = '{}/rand{}_10x.dat'.format(cat_dir, cat_tag)\n",
    "random = np.loadtxt(rand_fn)\n",
    "x_rand, y_rand, z_rand = random.T\n",
    "nr = random.shape[0]\n",
    "#weights_rand = np.full(nr, 0.5)\n",
    "weights_rand = None"
   ]
  },
  {
   "cell_type": "code",
   "execution_count": 6,
   "metadata": {},
   "outputs": [],
   "source": [
    "def extract_counts(res, weight_type=None, col=4):\n",
    "    counts = np.array([x[col] for x in res], dtype=float)\n",
    "    if weight_type:\n",
    "        weights = np.array([x[5] for x in res], dtype=float)\n",
    "        counts *= weights\n",
    "    return counts"
   ]
  },
  {
   "cell_type": "code",
   "execution_count": null,
   "metadata": {},
   "outputs": [],
   "source": []
  },
  {
   "cell_type": "markdown",
   "metadata": {},
   "source": [
    "### 3D correlation function"
   ]
  },
  {
   "cell_type": "markdown",
   "metadata": {},
   "source": [
    "Here we will compute the 3D correlation function, xi(r). We will use DD(s, mu) with a single mu bin up to mu_max = 1, so this is equivalent to DD(r). Check:"
   ]
  },
  {
   "cell_type": "code",
   "execution_count": 10,
   "metadata": {},
   "outputs": [
    {
     "name": "stdout",
     "output_type": "stream",
     "text": [
      "[ 11012.  16560.  22158.  29640.  38270.  47410.  57808.  70030.  83316.\n",
      "  97308. 111502.]\n",
      "[ 11012.  16560.  22158.  29640.  38270.  47410.  57808.  70030.  83316.\n",
      "  97308. 111502.]\n"
     ]
    }
   ],
   "source": [
    "ddsmu_res, _, _ = DDsmu(1, nthreads, rbins, mumax, nmubins, x, y, z, boxsize=boxsize, periodic=True)\n",
    "ddsmu = extract_counts(ddsmu_res)\n",
    "print(ddsmu)\n",
    "dd_res = DD(1, nthreads, rbins, x, y, z, boxsize=boxsize, periodic=True)\n",
    "dd = extract_counts(dd_res, col=3)\n",
    "print(dd)"
   ]
  },
  {
   "cell_type": "markdown",
   "metadata": {},
   "source": [
    "### Perform xi(s, mu) continous estimation"
   ]
  },
  {
   "cell_type": "code",
   "execution_count": 11,
   "metadata": {},
   "outputs": [
    {
     "name": "stdout",
     "output_type": "stream",
     "text": [
      "Applying projection requires fallback method, switching instruction set\n",
      "Applying projection requires fallback method, switching instruction set\n",
      "Applying projection requires fallback method, switching instruction set\n"
     ]
    }
   ],
   "source": [
    "# projection\n",
    "_, dd_proj, _ = DDsmu(1, nthreads, rbins, mumax, nmubins, x, y, z,\n",
    "                proj_type=proj_type, nprojbins=nbins,\n",
    "                verbose=verbose, boxsize=boxsize, periodic=periodic)\n",
    "\n",
    "_, dr_proj, _ = DDsmu(0, nthreads, rbins, mumax, nmubins, \n",
    "                x, y, z, X2=x_rand, Y2=y_rand, Z2=z_rand, \n",
    "                proj_type=proj_type, nprojbins=nbins, \n",
    "                verbose=verbose,\n",
    "                weights1=weights, weights2=weights_rand, weight_type=weight_type, periodic=periodic)\n",
    "\n",
    "_, rr_proj, qq_proj = DDsmu(1, nthreads, rbins, mumax, nmubins, x_rand, y_rand, z_rand,\n",
    "                proj_type=proj_type, nprojbins=nbins,\n",
    "                verbose=verbose,\n",
    "                weights1=weights_rand, weight_type=weight_type, periodic=periodic)"
   ]
  },
  {
   "cell_type": "code",
   "execution_count": 12,
   "metadata": {},
   "outputs": [
    {
     "name": "stdout",
     "output_type": "stream",
     "text": [
      "Computing amplitudes (Corrfunc/utils)\n",
      "Evaluating xi (Corrfunc/utils)\n"
     ]
    }
   ],
   "source": [
    "amps = compute_amps(nbins, nd, nd, nr, nr, dd_proj, dr_proj, dr_proj, rr_proj, qq_proj)\n",
    "xi_proj = evaluate_xi(nbins, amps, len(rcont), rcont, len(rbins)-1, rbins, proj_type)"
   ]
  },
  {
   "cell_type": "code",
   "execution_count": null,
   "metadata": {},
   "outputs": [],
   "source": []
  },
  {
   "cell_type": "code",
   "execution_count": null,
   "metadata": {},
   "outputs": [],
   "source": []
  },
  {
   "cell_type": "markdown",
   "metadata": {},
   "source": [
    "### Perform xi(s, mu) standard estimation"
   ]
  },
  {
   "cell_type": "code",
   "execution_count": 14,
   "metadata": {},
   "outputs": [],
   "source": []
  },
  {
   "cell_type": "code",
   "execution_count": 13,
   "metadata": {},
   "outputs": [],
   "source": [
    "# standard\n",
    "dd_res_corrfunc, _, _ = DDsmu(1, nthreads, rbins, mumax, nmubins, x, y, z,\n",
    "                proj_type=None,\n",
    "                verbose=verbose, boxsize=boxsize, periodic=periodic)\n",
    "dd = extract_counts(dd_res_corrfunc, weight_type)\n",
    "\n",
    "dr_res_corrfunc, _, _ = DDsmu(0, nthreads, rbins, mumax, nmubins, \n",
    "                x, y, z, X2=x_rand, Y2=y_rand, Z2=z_rand, \n",
    "                proj_type=None, \n",
    "                verbose=verbose,\n",
    "                weights1=weights, weights2=weights_rand, weight_type=weight_type, periodic=periodic)\n",
    "dr = extract_counts(dr_res_corrfunc, weight_type)\n",
    "\n",
    "rr_res_corrfunc, _, _ = DDsmu(1, nthreads, rbins, mumax, nmubins, x_rand, y_rand, z_rand,\n",
    "                proj_type=None,\n",
    "                verbose=verbose,\n",
    "                weights1=weights_rand, weight_type=weight_type, periodic=periodic)\n",
    "rr = extract_counts(rr_res_corrfunc, weight_type)"
   ]
  },
  {
   "cell_type": "code",
   "execution_count": 14,
   "metadata": {},
   "outputs": [
    {
     "name": "stdout",
     "output_type": "stream",
     "text": [
      "Standard L-S:\n",
      "[ 0.03350307  0.0292228  -0.00077376 -0.00531418 -0.00254911 -0.00703033\n",
      " -0.00503321 -0.00338453  0.00576069  0.01003315  0.00264024]\n"
     ]
    }
   ],
   "source": [
    "fN = float(nr)/float(nd)\n",
    "xi_ls = (dd * fN**2 - 2*dr * fN + rr)/rr\n",
    "print(\"Standard L-S:\")\n",
    "print(xi_ls)"
   ]
  },
  {
   "cell_type": "code",
   "execution_count": null,
   "metadata": {},
   "outputs": [],
   "source": []
  },
  {
   "cell_type": "code",
   "execution_count": 15,
   "metadata": {},
   "outputs": [
    {
     "data": {
      "text/plain": [
       "[<matplotlib.lines.Line2D at 0x7f58369452e8>]"
      ]
     },
     "execution_count": 15,
     "metadata": {},
     "output_type": "execute_result"
    },
    {
     "data": {
      "image/png": "[encoded data removed]",
      "text/plain": [
       "<Figure size 432x288 with 1 Axes>"
      ]
     },
     "metadata": {
      "needs_background": "light"
     },
     "output_type": "display_data"
    }
   ],
   "source": [
    "rbins_avg = 0.5*(rbins[1:]+rbins[:-1])\n",
    "plt.plot(rcont, xi_proj, color='blue')\n",
    "plt.plot(rbins_avg, xi_ls, marker='o', color='grey', ls='None')"
   ]
  },
  {
   "cell_type": "markdown",
   "metadata": {},
   "source": [
    "# Quadratic spline on theory data"
   ]
  },
  {
   "cell_type": "code",
   "execution_count": 62,
   "metadata": {},
   "outputs": [
    {
     "data": {
      "text/plain": [
       "'quadratic_spline.dat'"
      ]
     },
     "execution_count": 62,
     "metadata": {},
     "output_type": "execute_result"
    }
   ],
   "source": [
    "order = 2 # for quadratic\n",
    "proj_type = 'generalr'\n",
    "projfn = 'quadratic_spline.  dat'\n",
    "# The spline routine writes to file, so remember to delete later\n",
    "spline.write_bases(rbins[0], rbins[-1], len(rbins)-1, order, projfn)"
   ]
  },
  {
   "cell_type": "markdown",
   "metadata": {},
   "source": [
    "Check out basis functions:"
   ]
  },
  {
   "cell_type": "code",
   "execution_count": 63,
   "metadata": {},
   "outputs": [
    {
     "data": {
      "image/png": "[encoded data removed]",
      "text/plain": [
       "<Figure size 432x288 with 1 Axes>"
      ]
     },
     "metadata": {
      "needs_background": "light"
     },
     "output_type": "display_data"
    }
   ],
   "source": [
    "bases = np.loadtxt(projfn)\n",
    "bases.shape\n",
    "r = bases[:,0]\n",
    "for i in range(1, len(bases[0])):\n",
    "    plt.plot(r, bases[:,i])"
   ]
  },
  {
   "cell_type": "code",
   "execution_count": 7,
   "metadata": {},
   "outputs": [
    {
     "ename": "NameError",
     "evalue": "name 'projfn' is not defined",
     "output_type": "error",
     "traceback": [
      "\u001b[0;31m---------------------------------------------------------------------------\u001b[0m",
      "\u001b[0;31mNameError\u001b[0m                                 Traceback (most recent call last)",
      "\u001b[0;32m<ipython-input-7-5f5dfa76a5a2>\u001b[0m in \u001b[0;36m<module>\u001b[0;34m\u001b[0m\n\u001b[1;32m      2\u001b[0m \u001b[0mrbins\u001b[0m \u001b[0;34m=\u001b[0m \u001b[0;32mNone\u001b[0m\u001b[0;34m\u001b[0m\u001b[0;34m\u001b[0m\u001b[0m\n\u001b[1;32m      3\u001b[0m _, dd_proj, _ = DDsmu(1, nthreads, rbins, mumax, nmubins, x, y, z,\n\u001b[0;32m----> 4\u001b[0;31m                 \u001b[0mproj_type\u001b[0m\u001b[0;34m=\u001b[0m\u001b[0mproj_type\u001b[0m\u001b[0;34m,\u001b[0m \u001b[0mnprojbins\u001b[0m\u001b[0;34m=\u001b[0m\u001b[0mnbins\u001b[0m\u001b[0;34m,\u001b[0m \u001b[0mprojfn\u001b[0m\u001b[0;34m=\u001b[0m\u001b[0mprojfn\u001b[0m\u001b[0;34m,\u001b[0m\u001b[0;34m\u001b[0m\u001b[0;34m\u001b[0m\u001b[0m\n\u001b[0m\u001b[1;32m      5\u001b[0m                 verbose=verbose, boxsize=boxsize, periodic=periodic)\n\u001b[1;32m      6\u001b[0m \u001b[0;34m\u001b[0m\u001b[0m\n",
      "\u001b[0;31mNameError\u001b[0m: name 'projfn' is not defined"
     ]
    }
   ],
   "source": [
    "# projection\n",
    "rbins = None\n",
    "_, dd_proj, _ = DDsmu(1, nthreads, rbins, mumax, nmubins, x, y, z,\n",
    "                proj_type=proj_type, nprojbins=nbins, projfn=projfn,\n",
    "                verbose=verbose, boxsize=boxsize, periodic=periodic)\n",
    "\n",
    "_, dr_proj, _ = DDsmu(0, nthreads, rbins, mumax, nmubins, \n",
    "                x, y, z, X2=x_rand, Y2=y_rand, Z2=z_rand, \n",
    "                proj_type=proj_type, nprojbins=nbins, projfn=projfn,\n",
    "                verbose=verbose,\n",
    "                weights1=weights, weights2=weights_rand, weight_type=weight_type, periodic=periodic)\n",
    "\n",
    "_, rr_proj, qq_proj = DDsmu(1, nthreads, rbins, mumax, nmubins, x_rand, y_rand, z_rand,\n",
    "                proj_type=proj_type, nprojbins=nbins, projfn=projfn,\n",
    "                verbose=verbose,\n",
    "                weights1=weights_rand, weight_type=weight_type, periodic=periodic)"
   ]
  },
  {
   "cell_type": "code",
   "execution_count": 19,
   "metadata": {},
   "outputs": [
    {
     "name": "stdout",
     "output_type": "stream",
     "text": [
      "Computing amplitudes (Corrfunc/utils)\n",
      "Evaluating xi (Corrfunc/utils)\n",
      "Reading in projection file, quadratic_spline.dat...\n",
      "Read in 300 by 12 basis data\n"
     ]
    }
   ],
   "source": [
    "amps = compute_amps(nbins, nd, nd, nr, nr, dd_proj, dr_proj, dr_proj, rr_proj, qq_proj)\n",
    "xi_proj = evaluate_xi(nbins, amps, len(rcont), rcont, len(rbins)-1, rbins, proj_type, projfn=projfn)"
   ]
  },
  {
   "cell_type": "code",
   "execution_count": 20,
   "metadata": {},
   "outputs": [
    {
     "data": {
      "text/plain": [
       "[<matplotlib.lines.Line2D at 0x7f58367adac8>]"
      ]
     },
     "execution_count": 20,
     "metadata": {},
     "output_type": "execute_result"
    },
    {
     "data": {
      "image/png": "[encoded data removed]",
      "text/plain": [
       "<Figure size 432x288 with 1 Axes>"
      ]
     },
     "metadata": {
      "needs_background": "light"
     },
     "output_type": "display_data"
    }
   ],
   "source": [
    "plt.plot(rcont, xi_proj, color='red')\n",
    "plt.plot(rbins_avg, xi_ls, marker='o', color='grey', ls='None')"
   ]
  },
  {
   "cell_type": "markdown",
   "metadata": {},
   "source": [
    "Clean up basis function file"
   ]
  },
  {
   "cell_type": "code",
   "execution_count": 21,
   "metadata": {},
   "outputs": [],
   "source": [
    "os.remove(projfn)"
   ]
  },
  {
   "cell_type": "markdown",
   "metadata": {},
   "source": [
    "# Periodic box"
   ]
  },
  {
   "cell_type": "markdown",
   "metadata": {},
   "source": [
    "For a periodic box, we can compute the RR term analytically, so we just need the DD projection."
   ]
  },
  {
   "cell_type": "code",
   "execution_count": 11,
   "metadata": {},
   "outputs": [
    {
     "data": {
      "text/plain": [
       "'quadratic_spline.dat'"
      ]
     },
     "execution_count": 11,
     "metadata": {},
     "output_type": "execute_result"
    }
   ],
   "source": [
    "#proj_type = 'tophat'\n",
    "\n",
    "order = 2 # for quadratic\n",
    "proj_type = 'generalr'\n",
    "projfn = 'quadratic_spline.dat'\n",
    "# The spline routine writes to file, so remember to delete later\n",
    "spline.write_bases(rbins[0], rbins[-1], len(rbins)-1, order, projfn)"
   ]
  },
  {
   "cell_type": "code",
   "execution_count": 12,
   "metadata": {},
   "outputs": [
    {
     "name": "stdout",
     "output_type": "stream",
     "text": [
      "Applying projection requires fallback method, switching instruction set\n",
      "Reading in projection file, quadratic_spline.dat...\n",
      "Read in 300 by 17 basis data\n"
     ]
    }
   ],
   "source": [
    "_, dd_proj, _ = DDsmu(1, nthreads, rbins, mumax, nmubins, x, y, z,\n",
    "                proj_type=proj_type, nprojbins=nbins, projfn=projfn,\n",
    "                verbose=verbose, boxsize=boxsize, periodic=True)"
   ]
  },
  {
   "cell_type": "markdown",
   "metadata": {},
   "source": [
    "The analytic RR term can be computed for component $i$ as:\n",
    "$$ RR_i = N_D * V_i * \\bar{\\rho} $$\n",
    "where\n",
    "$$ \\bar{\\rho} = \\frac{N_D - 1}{L^3} $$\n",
    "The $-1$ is because we don't include the galaxy itself when computing it's pairs (i.e. number of pairs for N points is N(N-1))."
   ]
  },
  {
   "cell_type": "code",
   "execution_count": 13,
   "metadata": {},
   "outputs": [
    {
     "name": "stdout",
     "output_type": "stream",
     "text": [
      "Evaluating xi (Corrfunc/utils)\n",
      "qq analytic\n",
      "Reading in projection file, quadratic_spline.dat...\n",
      "Read in 300 by 17 basis data\n",
      "Evaluating xi (Corrfunc/utils)\n",
      "Reading in projection file, quadratic_spline.dat...\n",
      "Read in 300 by 17 basis data\n"
     ]
    }
   ],
   "source": [
    "volume = boxsize**3\n",
    "sbins = rbins\n",
    "nsbins = len(rbins)-1\n",
    "nprojbins = nbins\n",
    "qq_ana = qq_analytic(rmin, rmax, nd, volume, nprojbins, nsbins, sbins, proj_type, projfn=projfn)\n",
    "amps_periodic_ana = np.matmul(np.linalg.inv(qq_ana), dd_proj) - 1\n",
    "xi_periodic_ana = evaluate_xi(nbins, amps_periodic_ana, len(rcont), rcont, len(rbins)-1, rbins, proj_type, projfn=projfn)"
   ]
  },
  {
   "cell_type": "markdown",
   "metadata": {},
   "source": [
    "Compare to theoretical DD(r):"
   ]
  },
  {
   "cell_type": "code",
   "execution_count": 9,
   "metadata": {},
   "outputs": [],
   "source": [
    "xi_3d_res = xi(boxsize, nthreads, rbins, x, y, z)\n",
    "xi_3d = np.array([x[3] for x in xi_3d_res], dtype=float)"
   ]
  },
  {
   "cell_type": "markdown",
   "metadata": {},
   "source": [
    "Try with estimator:\n",
    "\n",
    "xi(s, mu) with mumax = 1 and 1 mubin should be equiv to xi(r)"
   ]
  },
  {
   "cell_type": "markdown",
   "metadata": {},
   "source": [
    "For randoms let's load in our bigger box for better convergence:"
   ]
  },
  {
   "cell_type": "code",
   "execution_count": 14,
   "metadata": {},
   "outputs": [],
   "source": [
    "boxsize = 750\n",
    "nbar_str_big = '1e-4'\n",
    "cat_tag_big = '_L{}_nbar{}'.format(boxsize, nbar_str_big)\n",
    "cat_dir_big = '../byebyebias/catalogs/cats_lognormal{}'.format(cat_tag_big)\n",
    "\n",
    "# randoms\n",
    "rand_fn_big = '{}/rand{}_10x.dat'.format(cat_dir_big, cat_tag_big)\n",
    "random_big = np.loadtxt(rand_fn_big)\n",
    "x_rand_big, y_rand_big, z_rand_big = random_big.T\n",
    "nr_big = random_big.shape[0]\n",
    "#weights_rand = np.full(nr, 0.5)\n",
    "weights_rand_big = None"
   ]
  },
  {
   "cell_type": "code",
   "execution_count": 15,
   "metadata": {},
   "outputs": [
    {
     "name": "stdout",
     "output_type": "stream",
     "text": [
      "Applying projection requires fallback method, switching instruction set\n",
      "Reading in projection file, quadratic_spline.dat...\n",
      "Read in 300 by 17 basis data\n",
      "Applying projection requires fallback method, switching instruction set\n",
      "Reading in projection file, quadratic_spline.dat...\n",
      "Read in 300 by 17 basis data\n",
      "Applying projection requires fallback method, switching instruction set\n",
      "Reading in projection file, quadratic_spline.dat...\n",
      "Read in 300 by 17 basis data\n"
     ]
    }
   ],
   "source": [
    "# projection\n",
    "#proj_type = 'tophat'\n",
    "#proj_type = 'piecewise'\n",
    "#projfn = None\n",
    "_, dd_proj, _ = DDsmu(1, nthreads, rbins, mumax, nmubins, x, y, z,\n",
    "                proj_type=proj_type, nprojbins=nbins, projfn=projfn,\n",
    "                verbose=verbose, boxsize=boxsize, periodic=True)\n",
    "\n",
    "_, dr_proj_big, _ = DDsmu(0, nthreads, rbins, mumax, nmubins, \n",
    "                x, y, z, X2=x_rand_big, Y2=y_rand_big, Z2=z_rand_big, \n",
    "                proj_type=proj_type, nprojbins=nbins, projfn=projfn,\n",
    "                verbose=verbose,\n",
    "                weights1=weights, weights2=weights_rand_big, weight_type=weight_type, periodic=True)\n",
    "\n",
    "_, rr_proj_big, qq_proj_big = DDsmu(1, nthreads, rbins, mumax, nmubins, x_rand_big, y_rand_big, z_rand_big,\n",
    "                proj_type=proj_type, nprojbins=nbins, projfn=projfn,\n",
    "                verbose=verbose,\n",
    "                weights1=weights_rand_big, weight_type=weight_type, periodic=True)"
   ]
  },
  {
   "cell_type": "code",
   "execution_count": 16,
   "metadata": {},
   "outputs": [
    {
     "name": "stdout",
     "output_type": "stream",
     "text": [
      "Computing amplitudes (Corrfunc/utils)\n",
      "Evaluating xi (Corrfunc/utils)\n",
      "Reading in projection file, quadratic_spline.dat...\n",
      "Read in 300 by 17 basis data\n"
     ]
    }
   ],
   "source": [
    "amps_big = compute_amps(nbins, nd, nd, nr_big, nr_big, dd_proj, dr_proj_big, dr_proj_big, rr_proj_big, qq_proj_big)\n",
    "xi_proj_big = evaluate_xi(nbins, amps_big, len(rcont), rcont, len(rbins)-1, rbins, proj_type, projfn=projfn)"
   ]
  },
  {
   "cell_type": "code",
   "execution_count": 17,
   "metadata": {},
   "outputs": [
    {
     "name": "stdout",
     "output_type": "stream",
     "text": [
      "Applying projection requires fallback method, switching instruction set\n",
      "Reading in projection file, quadratic_spline.dat...\n",
      "Read in 300 by 17 basis data\n",
      "Applying projection requires fallback method, switching instruction set\n",
      "Reading in projection file, quadratic_spline.dat...\n",
      "Read in 300 by 17 basis data\n",
      "Computing amplitudes (Corrfunc/utils)\n",
      "Evaluating xi (Corrfunc/utils)\n",
      "Reading in projection file, quadratic_spline.dat...\n",
      "Read in 300 by 17 basis data\n"
     ]
    }
   ],
   "source": [
    "_, dr_proj, _ = DDsmu(0, nthreads, rbins, mumax, nmubins, \n",
    "                x, y, z, X2=x_rand, Y2=y_rand, Z2=z_rand, \n",
    "                proj_type=proj_type, nprojbins=nbins, projfn=projfn,\n",
    "                verbose=verbose,\n",
    "                weights1=weights, weights2=weights_rand, weight_type=weight_type, periodic=True)\n",
    "\n",
    "_, rr_proj, qq_proj = DDsmu(1, nthreads, rbins, mumax, nmubins, x_rand, y_rand, z_rand,\n",
    "                proj_type=proj_type, nprojbins=nbins, projfn=projfn,\n",
    "                verbose=verbose,\n",
    "                weights1=weights_rand, weight_type=weight_type, periodic=True)\n",
    "\n",
    "amps = compute_amps(nbins, nd, nd, nr, nr, dd_proj, dr_proj, dr_proj, rr_proj, qq_proj)\n",
    "xi_proj = evaluate_xi(nbins, amps, len(rcont), rcont, len(rbins)-1, rbins, proj_type, projfn=projfn)"
   ]
  },
  {
   "cell_type": "markdown",
   "metadata": {},
   "source": [
    "The discrepancy at high-r is because there are fewer points there so we can't reach the theoretical (true) answer."
   ]
  },
  {
   "cell_type": "code",
   "execution_count": 30,
   "metadata": {},
   "outputs": [
    {
     "data": {
      "text/plain": [
       "[<matplotlib.lines.Line2D at 0x7f682812f668>]"
      ]
     },
     "execution_count": 30,
     "metadata": {},
     "output_type": "execute_result"
    },
    {
     "data": {
      "image/png": "[encoded data removed]",
      "text/plain": [
       "<Figure size 432x288 with 1 Axes>"
      ]
     },
     "metadata": {
      "needs_background": "light"
     },
     "output_type": "display_data"
    }
   ],
   "source": [
    "plt.plot(rcont, xi_periodic_ana, color='orange', ls='-')\n",
    "#plt.plot(rbins_avg, xi_3d, marker='d', color='magenta', ls='None')\n",
    "plt.plot(rcont, xi_proj_big, color='blue', ls='--')\n",
    "plt.plot(rcont, xi_proj, color='cyan', ls='--')"
   ]
  },
  {
   "cell_type": "code",
   "execution_count": 18,
   "metadata": {},
   "outputs": [
    {
     "data": {
      "text/plain": [
       "[<matplotlib.lines.Line2D at 0x7f9815f7e860>]"
      ]
     },
     "execution_count": 18,
     "metadata": {},
     "output_type": "execute_result"
    },
    {
     "data": {
      "image/png": "[encoded data removed]",
      "text/plain": [
       "<Figure size 432x288 with 1 Axes>"
      ]
     },
     "metadata": {
      "needs_background": "light"
     },
     "output_type": "display_data"
    }
   ],
   "source": [
    "plt.plot(rcont, xi_periodic_ana, color='orange', ls='-')\n",
    "#plt.plot(rbins_avg, xi_3d, marker='d', color='magenta', ls='None')\n",
    "plt.plot(rcont, xi_proj_big, color='blue', ls='--')\n",
    "plt.plot(rcont, xi_proj, color='cyan', ls='--')"
   ]
  },
  {
   "cell_type": "markdown",
   "metadata": {},
   "source": [
    "## Periodic tophat"
   ]
  },
  {
   "cell_type": "code",
   "execution_count": 9,
   "metadata": {},
   "outputs": [
    {
     "name": "stdout",
     "output_type": "stream",
     "text": [
      "Applying projection requires fallback method, switching instruction set\n"
     ]
    }
   ],
   "source": [
    "proj_type = 'tophat'\n",
    "projfn = None\n",
    "_, dd_proj, _ = DDsmu(1, nthreads, rbins, mumax, nmubins, x, y, z,\n",
    "                proj_type=proj_type, nprojbins=nbins, projfn=projfn,\n",
    "                verbose=verbose, boxsize=boxsize, periodic=True)"
   ]
  },
  {
   "cell_type": "code",
   "execution_count": 10,
   "metadata": {},
   "outputs": [
    {
     "name": "stdout",
     "output_type": "stream",
     "text": [
      "Evaluating xi (Corrfunc/utils)\n",
      "qq analytic\n"
     ]
    },
    {
     "ename": "ValueError",
     "evalue": "too many values to unpack (expected 2)",
     "output_type": "error",
     "traceback": [
      "\u001b[0;31m---------------------------------------------------------------------------\u001b[0m",
      "\u001b[0;31mValueError\u001b[0m                                Traceback (most recent call last)",
      "\u001b[0;32m<ipython-input-10-21077e1a87d5>\u001b[0m in \u001b[0;36m<module>\u001b[0;34m\u001b[0m\n\u001b[1;32m      3\u001b[0m \u001b[0mnsbins\u001b[0m \u001b[0;34m=\u001b[0m \u001b[0mlen\u001b[0m\u001b[0;34m(\u001b[0m\u001b[0mrbins\u001b[0m\u001b[0;34m)\u001b[0m\u001b[0;34m-\u001b[0m\u001b[0;36m1\u001b[0m\u001b[0;34m\u001b[0m\u001b[0;34m\u001b[0m\u001b[0m\n\u001b[1;32m      4\u001b[0m \u001b[0mnprojbins\u001b[0m \u001b[0;34m=\u001b[0m \u001b[0mnbins\u001b[0m\u001b[0;34m\u001b[0m\u001b[0;34m\u001b[0m\u001b[0m\n\u001b[0;32m----> 5\u001b[0;31m \u001b[0mqq_ana\u001b[0m \u001b[0;34m=\u001b[0m \u001b[0mqq_analytic\u001b[0m\u001b[0;34m(\u001b[0m\u001b[0mrmin\u001b[0m\u001b[0;34m,\u001b[0m \u001b[0mrmax\u001b[0m\u001b[0;34m,\u001b[0m \u001b[0mnd\u001b[0m\u001b[0;34m,\u001b[0m \u001b[0mvolume\u001b[0m\u001b[0;34m,\u001b[0m \u001b[0mnprojbins\u001b[0m\u001b[0;34m,\u001b[0m \u001b[0mnsbins\u001b[0m\u001b[0;34m,\u001b[0m \u001b[0msbins\u001b[0m\u001b[0;34m,\u001b[0m \u001b[0mproj_type\u001b[0m\u001b[0;34m,\u001b[0m \u001b[0mprojfn\u001b[0m\u001b[0;34m=\u001b[0m\u001b[0mprojfn\u001b[0m\u001b[0;34m)\u001b[0m\u001b[0;34m\u001b[0m\u001b[0;34m\u001b[0m\u001b[0m\n\u001b[0m\u001b[1;32m      6\u001b[0m \u001b[0mamps_periodic_ana\u001b[0m \u001b[0;34m=\u001b[0m \u001b[0mnp\u001b[0m\u001b[0;34m.\u001b[0m\u001b[0mmatmul\u001b[0m\u001b[0;34m(\u001b[0m\u001b[0mnp\u001b[0m\u001b[0;34m.\u001b[0m\u001b[0mlinalg\u001b[0m\u001b[0;34m.\u001b[0m\u001b[0minv\u001b[0m\u001b[0;34m(\u001b[0m\u001b[0mqq_ana\u001b[0m\u001b[0;34m)\u001b[0m\u001b[0;34m,\u001b[0m \u001b[0mdd_proj\u001b[0m\u001b[0;34m)\u001b[0m \u001b[0;34m-\u001b[0m \u001b[0;36m1\u001b[0m\u001b[0;34m\u001b[0m\u001b[0;34m\u001b[0m\u001b[0m\n\u001b[1;32m      7\u001b[0m \u001b[0mxi_periodic_ana\u001b[0m \u001b[0;34m=\u001b[0m \u001b[0mevaluate_xi\u001b[0m\u001b[0;34m(\u001b[0m\u001b[0mnbins\u001b[0m\u001b[0;34m,\u001b[0m \u001b[0mamps_periodic_ana\u001b[0m\u001b[0;34m,\u001b[0m \u001b[0mlen\u001b[0m\u001b[0;34m(\u001b[0m\u001b[0mrcont\u001b[0m\u001b[0;34m)\u001b[0m\u001b[0;34m,\u001b[0m \u001b[0mrcont\u001b[0m\u001b[0;34m,\u001b[0m \u001b[0mlen\u001b[0m\u001b[0;34m(\u001b[0m\u001b[0mrbins\u001b[0m\u001b[0;34m)\u001b[0m\u001b[0;34m-\u001b[0m\u001b[0;36m1\u001b[0m\u001b[0;34m,\u001b[0m \u001b[0mrbins\u001b[0m\u001b[0;34m,\u001b[0m \u001b[0mproj_type\u001b[0m\u001b[0;34m,\u001b[0m \u001b[0mprojfn\u001b[0m\u001b[0;34m=\u001b[0m\u001b[0mprojfn\u001b[0m\u001b[0;34m)\u001b[0m\u001b[0;34m\u001b[0m\u001b[0;34m\u001b[0m\u001b[0m\n",
      "\u001b[0;32m~/Corrfunc/Corrfunc/utils.py\u001b[0m in \u001b[0;36mqq_analytic\u001b[0;34m(rmin, rmax, nd, volume, nprojbins, nsbins, sbins, proj_type, projfn)\u001b[0m\n\u001b[1;32m   1232\u001b[0m         \u001b[0;32mraise\u001b[0m \u001b[0mRuntimeError\u001b[0m\u001b[0;34m(\u001b[0m\u001b[0mmsg\u001b[0m\u001b[0;34m)\u001b[0m\u001b[0;34m\u001b[0m\u001b[0;34m\u001b[0m\u001b[0m\n\u001b[1;32m   1233\u001b[0m     \u001b[0;32melse\u001b[0m\u001b[0;34m:\u001b[0m\u001b[0;34m\u001b[0m\u001b[0;34m\u001b[0m\u001b[0m\n\u001b[0;32m-> 1234\u001b[0;31m         \u001b[0mrr\u001b[0m\u001b[0;34m,\u001b[0m \u001b[0mqq\u001b[0m \u001b[0;34m=\u001b[0m \u001b[0mextn_results\u001b[0m\u001b[0;34m\u001b[0m\u001b[0;34m\u001b[0m\u001b[0m\n\u001b[0m\u001b[1;32m   1235\u001b[0m \u001b[0;34m\u001b[0m\u001b[0m\n\u001b[1;32m   1236\u001b[0m     \u001b[0mqq\u001b[0m \u001b[0;34m=\u001b[0m \u001b[0mnp\u001b[0m\u001b[0;34m.\u001b[0m\u001b[0marray\u001b[0m\u001b[0;34m(\u001b[0m\u001b[0mqq\u001b[0m\u001b[0;34m)\u001b[0m\u001b[0;34m.\u001b[0m\u001b[0mreshape\u001b[0m\u001b[0;34m(\u001b[0m\u001b[0;34m(\u001b[0m\u001b[0mnprojbins\u001b[0m\u001b[0;34m,\u001b[0m \u001b[0mnprojbins\u001b[0m\u001b[0;34m)\u001b[0m\u001b[0;34m)\u001b[0m\u001b[0;34m\u001b[0m\u001b[0;34m\u001b[0m\u001b[0m\n",
      "\u001b[0;31mValueError\u001b[0m: too many values to unpack (expected 2)"
     ]
    }
   ],
   "source": [
    "volume = boxsize**3\n",
    "sbins = rbins\n",
    "nsbins = len(rbins)-1\n",
    "nprojbins = nbins\n",
    "qq_ana = qq_analytic(rmin, rmax, nd, volume, nprojbins, nsbins, sbins, proj_type, projfn=projfn)\n",
    "amps_periodic_ana = np.matmul(np.linalg.inv(qq_ana), dd_proj) - 1\n",
    "xi_periodic_ana = evaluate_xi(nbins, amps_periodic_ana, len(rcont), rcont, len(rbins)-1, rbins, proj_type, projfn=projfn)"
   ]
  },
  {
   "cell_type": "code",
   "execution_count": null,
   "metadata": {},
   "outputs": [],
   "source": []
  },
  {
   "cell_type": "code",
   "execution_count": null,
   "metadata": {},
   "outputs": [],
   "source": []
  },
  {
   "cell_type": "code",
   "execution_count": null,
   "metadata": {},
   "outputs": [],
   "source": []
  },
  {
   "cell_type": "code",
   "execution_count": null,
   "metadata": {},
   "outputs": [],
   "source": [
    "#!jupyter nbconvert --to script example.ipynb"
   ]
  },
  {
   "cell_type": "code",
   "execution_count": null,
   "metadata": {},
   "outputs": [],
   "source": []
  }
 ],
 "metadata": {
  "kernelspec": {
   "display_name": "Python 3",
   "language": "python",
   "name": "python3"
  },
  "language_info": {
   "codemirror_mode": {
    "name": "ipython",
    "version": 3
   },
   "file_extension": ".py",
   "mimetype": "text/x-python",
   "name": "python",
   "nbconvert_exporter": "python",
   "pygments_lexer": "ipython3",
   "version": "3.7.3"
  }
 },
 "nbformat": 4,
 "nbformat_minor": 2
}
