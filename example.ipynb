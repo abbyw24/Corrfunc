{
 "cells": [
  {
   "cell_type": "code",
   "execution_count": 1,
   "metadata": {},
   "outputs": [],
   "source": [
    "import numpy as np\n",
    "#%matplotlib inline\n",
    "import matplotlib.pyplot as plt\n",
    "plt.ion()\n",
    "\n",
    "import Corrfunc\n",
    "\n",
    "from Corrfunc.mocks.DDsmu_mocks import DDsmu_mocks\n",
    "from Corrfunc.utils import compute_amps\n",
    "from Corrfunc.utils import evaluate_xi"
   ]
  },
  {
   "cell_type": "markdown",
   "metadata": {},
   "source": [
    "# Tophat on mock data"
   ]
  },
  {
   "cell_type": "markdown",
   "metadata": {},
   "source": [
    "### Set up parameters\n",
    "\n",
    "Here we use a low-density lognormal simulation box."
   ]
  },
  {
   "cell_type": "code",
   "execution_count": 2,
   "metadata": {},
   "outputs": [],
   "source": [
    "boxsize = 750\n",
    "nbar_str = '1e-5'\n",
    "proj_type = 'tophat'\n",
    "\n",
    "rmin = 40\n",
    "rmax = 150\n",
    "nbins = 11\n",
    "\n",
    "mumax = 1.0\n",
    "seed = 0\n",
    "#weight_type='pair_product'\n",
    "weight_type=None"
   ]
  },
  {
   "cell_type": "code",
   "execution_count": 3,
   "metadata": {},
   "outputs": [],
   "source": [
    "rbins = np.linspace(rmin, rmax, nbins+1)\n",
    "rcont = np.linspace(rmin, rmax, 1000)\n",
    "\n",
    "cat_tag = '_L{}_nbar{}'.format(boxsize, nbar_str)\n",
    "cat_dir = '../byebyebias/catalogs/cats_lognormal{}'.format(cat_tag)\n",
    "\n",
    "cosmo = 1 #doesn't matter bc passing cz, but required\n",
    "nthreads = 24\n",
    "nmubins = 1\n",
    "verbose = True"
   ]
  },
  {
   "cell_type": "markdown",
   "metadata": {},
   "source": [
    "### Load in data and randoms"
   ]
  },
  {
   "cell_type": "code",
   "execution_count": 4,
   "metadata": {},
   "outputs": [],
   "source": [
    "# data\n",
    "datasky_fn = '{}/catsky_lognormal{}_seed{}.dat'.format(cat_dir, cat_tag, seed)\n",
    "datasky = np.loadtxt(datasky_fn)\n",
    "ra, dec, z = datasky.T\n",
    "nd = datasky.shape[0]\n",
    "#weights = np.full(nd, 0.5)\n",
    "weights = None"
   ]
  },
  {
   "cell_type": "code",
   "execution_count": 5,
   "metadata": {},
   "outputs": [],
   "source": [
    "# randoms\n",
    "randsky_fn = '{}/randsky{}_10x.dat'.format(cat_dir, cat_tag)\n",
    "randomsky = np.loadtxt(randsky_fn)\n",
    "ra_rand, dec_rand, z_rand = randomsky.T\n",
    "nr = randomsky.shape[0]\n",
    "#weights_rand = np.full(nr, 0.5)\n",
    "weights_rand = None"
   ]
  },
  {
   "cell_type": "markdown",
   "metadata": {},
   "source": [
    "### Perform xi(s, mu) continous estimation"
   ]
  },
  {
   "cell_type": "code",
   "execution_count": 6,
   "metadata": {},
   "outputs": [],
   "source": [
    "# projection\n",
    "dd_res_corrfunc, dd_proj, _ = DDsmu_mocks(1, cosmo, nthreads, mumax, nmubins, rbins, ra, dec, z,\n",
    "                is_comoving_dist=True, proj_type=proj_type, nprojbins=nbins, verbose=verbose, \n",
    "                weights1=weights, weight_type=weight_type)\n",
    "\n",
    "dr_res_corrfunc, dr_proj, _ = DDsmu_mocks(0, cosmo, nthreads, mumax, nmubins, rbins, \n",
    "                ra, dec, z, RA2=ra_rand, DEC2=dec_rand, CZ2=z_rand, \n",
    "                is_comoving_dist=True, proj_type=proj_type, nprojbins=nbins, verbose=verbose,\n",
    "                weights1=weights, weights2=weights_rand, weight_type=weight_type)\n",
    "\n",
    "rr_res_corrfunc, rr_proj, qq_proj = DDsmu_mocks(1, cosmo, nthreads, mumax, nmubins, rbins, ra_rand, dec_rand, z_rand,\n",
    "                is_comoving_dist=True, proj_type=proj_type, nprojbins=nbins, verbose=verbose,\n",
    "                weights1=weights_rand, weight_type=weight_type)"
   ]
  },
  {
   "cell_type": "code",
   "execution_count": 7,
   "metadata": {},
   "outputs": [
    {
     "name": "stdout",
     "output_type": "stream",
     "text": [
      "Computing amplitudes (Corrfunc/utils)\n",
      "[0.03397434659150982, 0.02937162643177822, -0.0006946117597155749, -0.005558705819002792, -0.002525596466932429, -0.006964443658262263, -0.005074186154115213, -0.003394010407329386, 0.005753917119789998, 0.009915749079357892, 0.002793795928266518]\n",
      "Evaluating xi (Corrfunc/utils)\n"
     ]
    }
   ],
   "source": [
    "amps = compute_amps(nbins, nd, nd, nr, nr, dd_proj, dr_proj, dr_proj, rr_proj, qq_proj)\n",
    "xi_proj = evaluate_xi(nbins, amps, len(rcont), rcont, len(rbins)-1, rbins, proj_type)"
   ]
  },
  {
   "cell_type": "markdown",
   "metadata": {},
   "source": [
    "### Perform xi(s, mu) standard estimation"
   ]
  },
  {
   "cell_type": "code",
   "execution_count": 8,
   "metadata": {},
   "outputs": [],
   "source": [
    "def extract_counts(res, weight_type=None):\n",
    "    counts = np.array([x[4] for x in res], dtype=float)\n",
    "    print(counts)\n",
    "    if weight_type:\n",
    "        weights = np.array([x[5] for x in res], dtype=float)\n",
    "        print(weights)\n",
    "        counts *= weights\n",
    "    return counts"
   ]
  },
  {
   "cell_type": "code",
   "execution_count": 9,
   "metadata": {},
   "outputs": [
    {
     "name": "stdout",
     "output_type": "stream",
     "text": [
      "[10162. 14922. 19532. 25656. 32156. 39122. 46610. 55134. 64304. 73656.\n",
      " 82538.]\n",
      "[ 97714. 143358. 194541. 255298. 319875. 391258. 466232. 548865. 634135.\n",
      " 722979. 815556.]\n",
      "[ 971480. 1417178. 1936302. 2526378. 3173972. 3885778. 4639944. 5445524.\n",
      " 6289266. 7166298. 8080720.]\n"
     ]
    }
   ],
   "source": [
    "# standard\n",
    "proj_type = None\n",
    "dd_res_corrfunc, _, _ = DDsmu_mocks(1, cosmo, nthreads, mumax, nmubins, rbins, ra, dec, z,\n",
    "                is_comoving_dist=True, proj_type=proj_type, nprojbins=nbins, verbose=verbose,\n",
    "                weights1=weights, weight_type=weight_type)\n",
    "dd = extract_counts(dd_res_corrfunc, weight_type)\n",
    "\n",
    "dr_res_corrfunc, _, _ = DDsmu_mocks(0, cosmo, nthreads, mumax, nmubins, rbins, \n",
    "                ra, dec, z, RA2=ra_rand, DEC2=dec_rand, CZ2=z_rand, \n",
    "                is_comoving_dist=True, proj_type=proj_type, nprojbins=nbins, verbose=verbose,\n",
    "                weights1=weights, weights2=weights_rand, weight_type=weight_type)\n",
    "dr = extract_counts(dr_res_corrfunc, weight_type)\n",
    "\n",
    "rr_res_corrfunc, _, _ = DDsmu_mocks(1, cosmo, nthreads, mumax, nmubins, rbins, ra_rand, dec_rand, z_rand,\n",
    "                is_comoving_dist=True, proj_type=proj_type, nprojbins=nbins, verbose=verbose,\n",
    "                weights1=weights_rand, weight_type=weight_type)\n",
    "rr = extract_counts(rr_res_corrfunc, weight_type)"
   ]
  },
  {
   "cell_type": "code",
   "execution_count": 10,
   "metadata": {},
   "outputs": [
    {
     "name": "stdout",
     "output_type": "stream",
     "text": [
      "Standard L-S:\n",
      "[ 0.03397435  0.02937163 -0.00069461 -0.00555871 -0.0025256  -0.00696444\n",
      " -0.00507419 -0.00339401  0.00575392  0.00991575  0.0027938 ]\n"
     ]
    }
   ],
   "source": [
    "fN = float(nr)/float(nd)\n",
    "xi_ls = (dd * fN**2 - 2*dr * fN + rr)/rr\n",
    "print(\"Standard L-S:\")\n",
    "print(xi_ls)"
   ]
  },
  {
   "cell_type": "code",
   "execution_count": 11,
   "metadata": {},
   "outputs": [
    {
     "data": {
      "text/plain": [
       "[<matplotlib.lines.Line2D at 0x7fe046f57f98>]"
      ]
     },
     "execution_count": 11,
     "metadata": {},
     "output_type": "execute_result"
    },
    {
     "data": {
      "image/png": "[encoded data removed]",
      "text/plain": [
       "<Figure size 432x288 with 1 Axes>"
      ]
     },
     "metadata": {
      "needs_background": "light"
     },
     "output_type": "display_data"
    }
   ],
   "source": [
    "rbins_avg = 0.5*(rbins[1:]+rbins[:-1])\n",
    "plt.plot(rcont, xi_proj, color='blue')\n",
    "plt.plot(rbins_avg, xi_ls, marker='o', color='grey', ls='None')"
   ]
  },
  {
   "cell_type": "code",
   "execution_count": 12,
   "metadata": {},
   "outputs": [],
   "source": [
    "#!jupyter nbconvert --to script example.ipynb"
   ]
  },
  {
   "cell_type": "markdown",
   "metadata": {},
   "source": []
  },
  {
   "cell_type": "markdown",
   "metadata": {},
   "source": []
  },
  {
   "cell_type": "code",
   "execution_count": 2,
   "metadata": {},
   "outputs": [],
   "source": []
  },
  {
   "cell_type": "code",
   "execution_count": 3,
   "metadata": {},
   "outputs": [
    {
     "ename": "NameError",
     "evalue": "name 'np' is not defined",
     "output_type": "error",
     "traceback": [
      "\u001b[0;31m---------------------------------------------------------------------------\u001b[0m",
      "\u001b[0;31mNameError\u001b[0m                                 Traceback (most recent call last)",
      "\u001b[0;32m<ipython-input-3-3e4cd985ff0b>\u001b[0m in \u001b[0;36m<module>\u001b[0;34m\u001b[0m\n\u001b[0;32m----> 1\u001b[0;31m \u001b[0mrbins\u001b[0m \u001b[0;34m=\u001b[0m \u001b[0mnp\u001b[0m\u001b[0;34m.\u001b[0m\u001b[0mlinspace\u001b[0m\u001b[0;34m(\u001b[0m\u001b[0mrmin\u001b[0m\u001b[0;34m,\u001b[0m \u001b[0mrmax\u001b[0m\u001b[0;34m,\u001b[0m \u001b[0mnbins\u001b[0m\u001b[0;34m+\u001b[0m\u001b[0;36m1\u001b[0m\u001b[0;34m)\u001b[0m\u001b[0;34m\u001b[0m\u001b[0;34m\u001b[0m\u001b[0m\n\u001b[0m\u001b[1;32m      2\u001b[0m \u001b[0mrcont\u001b[0m \u001b[0;34m=\u001b[0m \u001b[0mnp\u001b[0m\u001b[0;34m.\u001b[0m\u001b[0mlinspace\u001b[0m\u001b[0;34m(\u001b[0m\u001b[0mrmin\u001b[0m\u001b[0;34m,\u001b[0m \u001b[0mrmax\u001b[0m\u001b[0;34m,\u001b[0m \u001b[0;36m1000\u001b[0m\u001b[0;34m)\u001b[0m\u001b[0;34m\u001b[0m\u001b[0;34m\u001b[0m\u001b[0m\n\u001b[1;32m      3\u001b[0m \u001b[0;34m\u001b[0m\u001b[0m\n\u001b[1;32m      4\u001b[0m \u001b[0mcat_tag\u001b[0m \u001b[0;34m=\u001b[0m \u001b[0;34m'_L{}_nbar{}'\u001b[0m\u001b[0;34m.\u001b[0m\u001b[0mformat\u001b[0m\u001b[0;34m(\u001b[0m\u001b[0mboxsize\u001b[0m\u001b[0;34m,\u001b[0m \u001b[0mnbar_str\u001b[0m\u001b[0;34m)\u001b[0m\u001b[0;34m\u001b[0m\u001b[0;34m\u001b[0m\u001b[0m\n\u001b[1;32m      5\u001b[0m \u001b[0mcat_dir\u001b[0m \u001b[0;34m=\u001b[0m \u001b[0;34m'../byebyebias/catalogs/cats_lognormal{}'\u001b[0m\u001b[0;34m.\u001b[0m\u001b[0mformat\u001b[0m\u001b[0;34m(\u001b[0m\u001b[0mcat_tag\u001b[0m\u001b[0;34m)\u001b[0m\u001b[0;34m\u001b[0m\u001b[0;34m\u001b[0m\u001b[0m\n",
      "\u001b[0;31mNameError\u001b[0m: name 'np' is not defined"
     ]
    }
   ],
   "source": []
  },
  {
   "cell_type": "code",
   "execution_count": null,
   "metadata": {},
   "outputs": [],
   "source": []
  }
 ],
 "metadata": {
  "kernelspec": {
   "display_name": "Python 3",
   "language": "python",
   "name": "python3"
  },
  "language_info": {
   "codemirror_mode": {
    "name": "ipython",
    "version": 3
   },
   "file_extension": ".py",
   "mimetype": "text/x-python",
   "name": "python",
   "nbconvert_exporter": "python",
   "pygments_lexer": "ipython3",
   "version": "3.7.3"
  }
 },
 "nbformat": 4,
 "nbformat_minor": 2
}
