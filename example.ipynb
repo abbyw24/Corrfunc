{
 "cells": [
  {
   "cell_type": "code",
   "execution_count": 1,
   "metadata": {},
   "outputs": [],
   "source": [
    "import numpy as np\n",
    "#%matplotlib inline\n",
    "import matplotlib.pyplot as plt\n",
    "plt.ion()\n",
    "\n",
    "%load_ext autoreload\n",
    "%autoreload 2\n",
    "import nbodykit\n",
    "import Corrfunc\n",
    "\n",
    "from Corrfunc.mocks.DDsmu_mocks import DDsmu_mocks\n",
    "from Corrfunc.utils import compute_amps\n",
    "from Corrfunc.utils import evaluate_xi\n",
    "from Corrfunc.bases import bao"
   ]
  },
  {
   "cell_type": "markdown",
   "metadata": {},
   "source": [
    "# Tophat on mock data"
   ]
  },
  {
   "cell_type": "markdown",
   "metadata": {},
   "source": [
    "### Set up parameters\n",
    "\n",
    "Here we use a low-density lognormal simulation box."
   ]
  },
  {
   "cell_type": "code",
   "execution_count": 15,
   "metadata": {},
   "outputs": [],
   "source": [
    "boxsize = 750\n",
    "nbar_str = '1e-4'\n",
    "proj_type = 'tophat'\n",
    "\n",
    "rmin = 40\n",
    "rmax = 150\n",
    "nbins = 11\n",
    "\n",
    "mumax = 1.0\n",
    "seed = 0\n",
    "#weight_type='pair_product'\n",
    "weight_type=None"
   ]
  },
  {
   "cell_type": "code",
   "execution_count": 16,
   "metadata": {},
   "outputs": [],
   "source": [
    "rbins = np.linspace(rmin, rmax, nbins+1)\n",
    "rcont = np.linspace(rmin, rmax, 1000)\n",
    "\n",
    "cat_tag = '_L{}_nbar{}'.format(boxsize, nbar_str)\n",
    "cat_dir = '../byebyebias/catalogs/cats_lognormal{}'.format(cat_tag)\n",
    "\n",
    "cosmo = 1 #doesn't matter bc passing cz, but required\n",
    "nthreads = 24\n",
    "nmubins = 1\n",
    "verbose = False"
   ]
  },
  {
   "cell_type": "markdown",
   "metadata": {},
   "source": [
    "### Load in data and randoms"
   ]
  },
  {
   "cell_type": "code",
   "execution_count": 17,
   "metadata": {},
   "outputs": [],
   "source": [
    "# data\n",
    "datasky_fn = '{}/catsky_lognormal{}_seed{}.dat'.format(cat_dir, cat_tag, seed)\n",
    "datasky = np.loadtxt(datasky_fn)\n",
    "ra, dec, z = datasky.T\n",
    "nd = datasky.shape[0]\n",
    "#weights = np.full(nd, 0.5)\n",
    "weights = None"
   ]
  },
  {
   "cell_type": "code",
   "execution_count": 18,
   "metadata": {},
   "outputs": [],
   "source": [
    "# randoms\n",
    "randsky_fn = '{}/randsky{}_10x.dat'.format(cat_dir, cat_tag)\n",
    "randomsky = np.loadtxt(randsky_fn)\n",
    "ra_rand, dec_rand, z_rand = randomsky.T\n",
    "nr = randomsky.shape[0]\n",
    "#weights_rand = np.full(nr, 0.5)\n",
    "weights_rand = None"
   ]
  },
  {
   "cell_type": "markdown",
   "metadata": {},
   "source": [
    "### Perform xi(s, mu) continous estimation"
   ]
  },
  {
   "cell_type": "code",
   "execution_count": 19,
   "metadata": {},
   "outputs": [
    {
     "name": "stdout",
     "output_type": "stream",
     "text": [
      "Applying projection requires fallback method, switching instruction set\n",
      "Applying projection requires fallback method, switching instruction set\n",
      "Applying projection requires fallback method, switching instruction set\n"
     ]
    }
   ],
   "source": [
    "# projection\n",
    "dd_res_corrfunc, dd_proj, _ = DDsmu_mocks(1, cosmo, nthreads, mumax, nmubins, rbins, ra, dec, z,\n",
    "                is_comoving_dist=True, proj_type=proj_type, nprojbins=nbins, verbose=verbose, \n",
    "                weights1=weights, weight_type=weight_type)\n",
    "\n",
    "dr_res_corrfunc, dr_proj, _ = DDsmu_mocks(0, cosmo, nthreads, mumax, nmubins, rbins, \n",
    "                ra, dec, z, RA2=ra_rand, DEC2=dec_rand, CZ2=z_rand, \n",
    "                is_comoving_dist=True, proj_type=proj_type, nprojbins=nbins, verbose=verbose,\n",
    "                weights1=weights, weights2=weights_rand, weight_type=weight_type)\n",
    "\n",
    "rr_res_corrfunc, rr_proj, qq_proj = DDsmu_mocks(1, cosmo, nthreads, mumax, nmubins, rbins, ra_rand, dec_rand, z_rand,\n",
    "                is_comoving_dist=True, proj_type=proj_type, nprojbins=nbins, verbose=verbose,\n",
    "                weights1=weights_rand, weight_type=weight_type)"
   ]
  },
  {
   "cell_type": "code",
   "execution_count": 20,
   "metadata": {},
   "outputs": [
    {
     "name": "stdout",
     "output_type": "stream",
     "text": [
      "Computing amplitudes (Corrfunc/utils)\n",
      "Evaluating xi (Corrfunc/utils)\n"
     ]
    }
   ],
   "source": [
    "amps = compute_amps(nbins, nd, nd, nr, nr, dd_proj, dr_proj, dr_proj, rr_proj, qq_proj)\n",
    "xi_proj = evaluate_xi(nbins, amps, len(rcont), rcont, len(rbins)-1, rbins, proj_type)"
   ]
  },
  {
   "cell_type": "markdown",
   "metadata": {},
   "source": [
    "### Perform xi(s, mu) standard estimation"
   ]
  },
  {
   "cell_type": "code",
   "execution_count": 21,
   "metadata": {},
   "outputs": [],
   "source": [
    "def extract_counts(res, weight_type=None):\n",
    "    counts = np.array([x[4] for x in res], dtype=float)\n",
    "    if weight_type:\n",
    "        weights = np.array([x[5] for x in res], dtype=float)\n",
    "        counts *= weights\n",
    "    return counts"
   ]
  },
  {
   "cell_type": "code",
   "execution_count": 22,
   "metadata": {},
   "outputs": [],
   "source": [
    "# standard\n",
    "proj_type = None\n",
    "dd_res_corrfunc, _, _ = DDsmu_mocks(1, cosmo, nthreads, mumax, nmubins, rbins, ra, dec, z,\n",
    "                is_comoving_dist=True, proj_type=proj_type, nprojbins=nbins, verbose=verbose,\n",
    "                weights1=weights, weight_type=weight_type)\n",
    "dd = extract_counts(dd_res_corrfunc, weight_type)\n",
    "\n",
    "dr_res_corrfunc, _, _ = DDsmu_mocks(0, cosmo, nthreads, mumax, nmubins, rbins, \n",
    "                ra, dec, z, RA2=ra_rand, DEC2=dec_rand, CZ2=z_rand, \n",
    "                is_comoving_dist=True, proj_type=proj_type, nprojbins=nbins, verbose=verbose,\n",
    "                weights1=weights, weights2=weights_rand, weight_type=weight_type)\n",
    "dr = extract_counts(dr_res_corrfunc, weight_type)\n",
    "\n",
    "rr_res_corrfunc, _, _ = DDsmu_mocks(1, cosmo, nthreads, mumax, nmubins, rbins, ra_rand, dec_rand, z_rand,\n",
    "                is_comoving_dist=True, proj_type=proj_type, nprojbins=nbins, verbose=verbose,\n",
    "                weights1=weights_rand, weight_type=weight_type)\n",
    "rr = extract_counts(rr_res_corrfunc, weight_type)"
   ]
  },
  {
   "cell_type": "code",
   "execution_count": 23,
   "metadata": {},
   "outputs": [
    {
     "name": "stdout",
     "output_type": "stream",
     "text": [
      "Standard L-S:\n",
      "[ 0.01201352  0.00957639  0.00597985  0.00087795  0.00225106  0.00168665\n",
      "  0.00130825  0.00027768 -0.00251305 -0.00092422 -0.0001175 ]\n"
     ]
    }
   ],
   "source": [
    "fN = float(nr)/float(nd)\n",
    "xi_ls = (dd * fN**2 - 2*dr * fN + rr)/rr\n",
    "print(\"Standard L-S:\")\n",
    "print(xi_ls)"
   ]
  },
  {
   "cell_type": "code",
   "execution_count": 24,
   "metadata": {},
   "outputs": [
    {
     "data": {
      "text/plain": [
       "[<matplotlib.lines.Line2D at 0x7f6aec1ec0f0>]"
      ]
     },
     "execution_count": 24,
     "metadata": {},
     "output_type": "execute_result"
    },
    {
     "data": {
      "image/png": "[encoded data removed]",
      "text/plain": [
       "<Figure size 432x288 with 1 Axes>"
      ]
     },
     "metadata": {
      "needs_background": "light"
     },
     "output_type": "display_data"
    }
   ],
   "source": [
    "rbins_avg = 0.5*(rbins[1:]+rbins[:-1])\n",
    "plt.plot(rcont, xi_proj, color='blue')\n",
    "plt.plot(rbins_avg, xi_ls, marker='o', color='grey', ls='None')"
   ]
  },
  {
   "cell_type": "markdown",
   "metadata": {},
   "source": [
    "# BAO on mock data"
   ]
  },
  {
   "cell_type": "code",
   "execution_count": 25,
   "metadata": {},
   "outputs": [],
   "source": [
    "order = 2 # for quadratic\n",
    "proj_type = 'generalr'\n",
    "projfn = 'bao.dat'\n",
    "# The spline routine writes to file, so remember to delete later\n",
    "kwargs = {'cosmo_base':nbodykit.cosmology.Planck15, 'redshift':0}\n",
    "nprojbins, _ = bao.write_bases(rbins[0], rbins[-1], projfn, **kwargs)"
   ]
  },
  {
   "cell_type": "markdown",
   "metadata": {},
   "source": [
    "Check out basis functions (normalized):"
   ]
  },
  {
   "cell_type": "code",
   "execution_count": 26,
   "metadata": {},
   "outputs": [
    {
     "data": {
      "image/png": "[encoded data removed]",
      "text/plain": [
       "<Figure size 432x288 with 1 Axes>"
      ]
     },
     "metadata": {
      "needs_background": "light"
     },
     "output_type": "display_data"
    }
   ],
   "source": [
    "bases = np.loadtxt(projfn)\n",
    "bases.shape\n",
    "r = bases[:,0]\n",
    "for i in range(1, len(bases[0])):\n",
    "    plt.plot(r, bases[:,i]/np.mean(bases[:,i]))"
   ]
  },
  {
   "cell_type": "code",
   "execution_count": 27,
   "metadata": {},
   "outputs": [
    {
     "name": "stdout",
     "output_type": "stream",
     "text": [
      "Applying projection requires fallback method, switching instruction set\n",
      "Reading in projection file, bao.dat...\n",
      "Read in 1000 by 6 basis data\n",
      "Applying projection requires fallback method, switching instruction set\n",
      "Reading in projection file, bao.dat...\n",
      "Read in 1000 by 6 basis data\n",
      "Applying projection requires fallback method, switching instruction set\n",
      "Reading in projection file, bao.dat...\n",
      "Read in 1000 by 6 basis data\n"
     ]
    }
   ],
   "source": [
    "_, dd_proj, _ = DDsmu_mocks(1, cosmo, nthreads, mumax, nmubins, rbins, ra, dec, z,\n",
    "                is_comoving_dist=True, proj_type=proj_type, nprojbins=nprojbins, projfn=projfn,\n",
    "                verbose=verbose, weights1=weights, weight_type=weight_type)\n",
    "\n",
    "_, dr_proj, _ = DDsmu_mocks(0, cosmo, nthreads, mumax, nmubins, rbins, \n",
    "                ra, dec, z, RA2=ra_rand, DEC2=dec_rand, CZ2=z_rand, \n",
    "                is_comoving_dist=True, proj_type=proj_type, nprojbins=nprojbins, projfn=projfn, verbose=verbose,\n",
    "                weights1=weights, weights2=weights_rand, weight_type=weight_type)\n",
    "\n",
    "_, rr_proj, qq_proj = DDsmu_mocks(1, cosmo, nthreads, mumax, nmubins, rbins, ra_rand, dec_rand, z_rand,\n",
    "                is_comoving_dist=True, proj_type=proj_type, nprojbins=nprojbins, projfn=projfn, verbose=verbose,\n",
    "                weights1=weights_rand, weight_type=weight_type)"
   ]
  },
  {
   "cell_type": "code",
   "execution_count": 28,
   "metadata": {},
   "outputs": [
    {
     "name": "stdout",
     "output_type": "stream",
     "text": [
      "Computing amplitudes (Corrfunc/utils)\n",
      "Evaluating xi (Corrfunc/utils)\n",
      "Reading in projection file, bao.dat...\n",
      "Read in 1000 by 6 basis data\n"
     ]
    }
   ],
   "source": [
    "amps = compute_amps(nprojbins, nd, nd, nr, nr, dd_proj, dr_proj, dr_proj, rr_proj, qq_proj)\n",
    "xi_proj = evaluate_xi(nprojbins, amps, len(rcont), rcont, len(rbins)-1, rbins, proj_type, projfn=projfn)"
   ]
  },
  {
   "cell_type": "code",
   "execution_count": 29,
   "metadata": {},
   "outputs": [
    {
     "data": {
      "text/plain": [
       "[<matplotlib.lines.Line2D at 0x7f6aee4d0a90>]"
      ]
     },
     "execution_count": 29,
     "metadata": {},
     "output_type": "execute_result"
    },
    {
     "data": {
      "image/png": "[encoded data removed]",
      "text/plain": [
       "<Figure size 432x288 with 1 Axes>"
      ]
     },
     "metadata": {
      "needs_background": "light"
     },
     "output_type": "display_data"
    }
   ],
   "source": [
    "rbins_avg = 0.5*(rbins[1:]+rbins[:-1])\n",
    "plt.plot(rcont, xi_proj, color='purple')\n",
    "plt.plot(rbins_avg, xi_ls, marker='o', color='grey', ls='None')"
   ]
  },
  {
   "cell_type": "code",
   "execution_count": 12,
   "metadata": {},
   "outputs": [],
   "source": [
    "#!jupyter nbconvert --to script example.ipynb"
   ]
  }
 ],
 "metadata": {
  "kernelspec": {
   "display_name": "Python 3",
   "language": "python",
   "name": "python3"
  },
  "language_info": {
   "codemirror_mode": {
    "name": "ipython",
    "version": 3
   },
   "file_extension": ".py",
   "mimetype": "text/x-python",
   "name": "python",
   "nbconvert_exporter": "python",
   "pygments_lexer": "ipython3",
   "version": "3.7.3"
  }
 },
 "nbformat": 4,
 "nbformat_minor": 2
}
